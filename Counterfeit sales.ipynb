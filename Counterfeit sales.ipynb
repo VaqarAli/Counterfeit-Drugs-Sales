{
 "cells": [
  {
   "cell_type": "code",
   "execution_count": 1,
   "metadata": {},
   "outputs": [],
   "source": [
    "import pandas as pd \n",
    "import numpy as np\n",
    "from sklearn.model_selection import GridSearchCV\n",
    "from sklearn.linear_model import Lasso"
   ]
  },
  {
   "cell_type": "code",
   "execution_count": 2,
   "metadata": {},
   "outputs": [],
   "source": [
    "import os\n",
    "os.getcwd()"
   ]
  },
  {
   "cell_type": "code",
   "execution_count": 3,
   "metadata": {},
   "outputs": [],
   "source": [
    "cs_train = pd.read_csv('counterfeit_train.csv')\n",
    "cs_test = pd.read_csv('counterfeit_test.csv')"
   ]
  },
  {
   "cell_type": "code",
   "execution_count": 4,
   "metadata": {},
   "outputs": [],
   "source": [
    "cs_test['Counterfeit_Sales']=np.nan  #Dummy column to identify test data separately\n",
    "cs_train['data']='train' \n",
    "cs_test['data']='test' \n",
    "cs_test=cs_test[cs_train.columns]\n",
    "\n",
    "cs_all=pd.concat([cs_train,cs_test],axis=0)\n",
    "\n",
    "cs_all.drop(['Medicine_ID'],axis=1,inplace=True)"
   ]
  },
  {
   "cell_type": "markdown",
   "metadata": {},
   "source": [
    "# EDA"
   ]
  },
  {
   "cell_type": "code",
   "execution_count": 5,
   "metadata": {},
   "outputs": [
    {
     "name": "stdout",
     "output_type": "stream",
     "text": [
      "Index(['DistArea_ID', 'Medicine_Type', 'SidEffect_Level', 'Area_Type',\n",
      "       'Area_City_Type', 'Area_dist_level'],\n",
      "      dtype='object')\n"
     ]
    }
   ],
   "source": [
    "cat_cols=cs_all.select_dtypes(['object']).columns[:-1]\n",
    "print(cat_cols)"
   ]
  },
  {
   "cell_type": "code",
   "execution_count": 6,
   "metadata": {},
   "outputs": [
    {
     "name": "stdout",
     "output_type": "stream",
     "text": [
      "(1705, 13)\n"
     ]
    }
   ],
   "source": [
    "print(cs_test.shape)"
   ]
  },
  {
   "cell_type": "code",
   "execution_count": 7,
   "metadata": {},
   "outputs": [
    {
     "data": {
      "text/plain": [
       "Counterfeit_Weight     1463\n",
       "DistArea_ID               0\n",
       "Active_Since              0\n",
       "Medicine_MRP              0\n",
       "Medicine_Type             0\n",
       "SidEffect_Level           0\n",
       "Availability_rating       0\n",
       "Area_Type                 0\n",
       "Area_City_Type            0\n",
       "Area_dist_level           0\n",
       "Counterfeit_Sales      1705\n",
       "data                      0\n",
       "dtype: int64"
      ]
     },
     "execution_count": 7,
     "metadata": {},
     "output_type": "execute_result"
    }
   ],
   "source": [
    "cs_all.isnull().sum()"
   ]
  },
  {
   "cell_type": "code",
   "execution_count": 8,
   "metadata": {},
   "outputs": [],
   "source": [
    "for col in cs_all.columns:\n",
    "    if (col not in ['Counterfeit_Sales','data'])& (cs_all[col].isnull().sum()>0):\n",
    "        cs_all.loc[cs_all[col].isnull(),col]=cs_all.loc[cs_all['data']=='train',col].mean()"
   ]
  },
  {
   "cell_type": "code",
   "execution_count": 9,
   "metadata": {},
   "outputs": [
    {
     "data": {
      "text/plain": [
       "Index(['DistArea_ID', 'Medicine_Type', 'SidEffect_Level', 'Area_Type',\n",
       "       'Area_City_Type', 'Area_dist_level', 'data'],\n",
       "      dtype='object')"
      ]
     },
     "execution_count": 9,
     "metadata": {},
     "output_type": "execute_result"
    }
   ],
   "source": [
    "cs_all.select_dtypes(['object']).columns"
   ]
  },
  {
   "cell_type": "markdown",
   "metadata": {},
   "source": [
    "#### Convert variables with object datatype to dummy"
   ]
  },
  {
   "cell_type": "code",
   "execution_count": 10,
   "metadata": {},
   "outputs": [
    {
     "name": "stdout",
     "output_type": "stream",
     "text": [
      "DistArea_ID\n",
      "Medicine_Type\n",
      "SidEffect_Level\n",
      "Area_Type\n",
      "Area_City_Type\n",
      "Area_dist_level\n"
     ]
    }
   ],
   "source": [
    "for col in cat_cols:\n",
    "    freqs=cs_all[col].value_counts()\n",
    "    k=freqs.index[freqs>20][:-1]\n",
    "    for cat in k:\n",
    "        name=col+'_'+cat\n",
    "        cs_all[name]=(cs_all[col]==cat).astype(int)\n",
    "    del cs_all[col]\n",
    "    print(col)"
   ]
  },
  {
   "cell_type": "code",
   "execution_count": 11,
   "metadata": {},
   "outputs": [
    {
     "name": "stderr",
     "output_type": "stream",
     "text": [
      "C:\\Anaconda\\lib\\site-packages\\pandas\\core\\frame.py:3694: SettingWithCopyWarning: \n",
      "A value is trying to be set on a copy of a slice from a DataFrame\n",
      "\n",
      "See the caveats in the documentation: http://pandas.pydata.org/pandas-docs/stable/indexing.html#indexing-view-versus-copy\n",
      "  errors=errors)\n"
     ]
    }
   ],
   "source": [
    "cs_train=cs_all[cs_all['data']=='train']\n",
    "del cs_train['data']\n",
    "cs_test=cs_all[cs_all['data']=='test']\n",
    "cs_test.drop(['Counterfeit_Sales','data'],axis=1,inplace=True)\n",
    "\n",
    "del cs_all"
   ]
  },
  {
   "cell_type": "code",
   "execution_count": 12,
   "metadata": {},
   "outputs": [],
   "source": [
    "import pandas as pd\n",
    "import math\n",
    "from sklearn.model_selection import train_test_split\n",
    "import numpy as np\n",
    "from sklearn.metrics import mean_absolute_error\n",
    "%matplotlib inline"
   ]
  },
  {
   "cell_type": "code",
   "execution_count": 13,
   "metadata": {},
   "outputs": [],
   "source": [
    "from sklearn.model_selection import train_test_split\n",
    "cs_train1,cs_train2=train_test_split(cs_train,test_size=0.2,random_state=2)\n",
    "\n",
    "X_train=cs_train1.drop('Counterfeit_Sales',axis=1)\n",
    "y_train=cs_train1['Counterfeit_Sales']\n",
    "\n",
    "X_test=cs_train2.drop('Counterfeit_Sales',axis=1)\n",
    "y_test=cs_train2['Counterfeit_Sales']"
   ]
  },
  {
   "cell_type": "code",
   "execution_count": 14,
   "metadata": {},
   "outputs": [
    {
     "data": {
      "text/plain": [
       "(6818, 38)"
      ]
     },
     "execution_count": 14,
     "metadata": {},
     "output_type": "execute_result"
    }
   ],
   "source": [
    "cs_train.shape"
   ]
  },
  {
   "cell_type": "markdown",
   "metadata": {},
   "source": [
    "### Linear Regression"
   ]
  },
  {
   "cell_type": "code",
   "execution_count": 15,
   "metadata": {},
   "outputs": [],
   "source": [
    "from sklearn.linear_model import LinearRegression"
   ]
  },
  {
   "cell_type": "code",
   "execution_count": 16,
   "metadata": {},
   "outputs": [],
   "source": [
    "lm=LinearRegression()"
   ]
  },
  {
   "cell_type": "code",
   "execution_count": 17,
   "metadata": {},
   "outputs": [
    {
     "data": {
      "text/plain": [
       "LinearRegression(copy_X=True, fit_intercept=True, n_jobs=None,\n",
       "         normalize=False)"
      ]
     },
     "execution_count": 17,
     "metadata": {},
     "output_type": "execute_result"
    }
   ],
   "source": [
    "lm.fit(X_train,y_train)"
   ]
  },
  {
   "cell_type": "code",
   "execution_count": 18,
   "metadata": {},
   "outputs": [
    {
     "data": {
      "text/plain": [
       "-0.014430681543672108"
      ]
     },
     "execution_count": 18,
     "metadata": {},
     "output_type": "execute_result"
    }
   ],
   "source": [
    "lm.intercept_"
   ]
  },
  {
   "cell_type": "markdown",
   "metadata": {},
   "source": [
    "### For looking weightage for coefficients"
   ]
  },
  {
   "cell_type": "code",
   "execution_count": 19,
   "metadata": {},
   "outputs": [
    {
     "data": {
      "text/plain": [
       "[('Counterfeit_Weight', -4.761842500980404),\n",
       " ('Active_Since', -0.10517526530587494),\n",
       " ('Medicine_MRP', 15.426504040886151),\n",
       " ('Availability_rating', -273.65566358980544),\n",
       " ('DistArea_ID_Area027', 753.421779539505),\n",
       " ('DistArea_ID_Area013', -43.482848769757716),\n",
       " ('DistArea_ID_Area035', 210.58134615501788),\n",
       " ('DistArea_ID_Area049', -128.48741580975434),\n",
       " ('DistArea_ID_Area046', 377.13941744576005),\n",
       " ('DistArea_ID_Area045', -42.49319281086095),\n",
       " ('DistArea_ID_Area018', -233.75187976386064),\n",
       " ('DistArea_ID_Area017', 132.31729563724582),\n",
       " ('DistArea_ID_Area010', -247.66041189126602),\n",
       " ('Medicine_Type_Antibiotics', -291.0996042413327),\n",
       " ('Medicine_Type_Hreplacements', -389.8981854004221),\n",
       " ('Medicine_Type_Antiseptics', -385.50946491851704),\n",
       " ('Medicine_Type_OralContraceptives', -357.97743612048083),\n",
       " ('Medicine_Type_Antipyretics', -419.5937885595727),\n",
       " ('Medicine_Type_Cardiac', -280.4056157718869),\n",
       " ('Medicine_Type_Mstablizers', -371.3083520033227),\n",
       " ('Medicine_Type_Tranquilizers', -433.88984089078747),\n",
       " ('Medicine_Type_Analgesics', -368.21123152718076),\n",
       " ('Medicine_Type_Antimalarial', -355.047124818191),\n",
       " ('Medicine_Type_Antacids', -364.01007005291495),\n",
       " ('Medicine_Type_Statins', -296.76080317350034),\n",
       " ('Medicine_Type_MuscleRelaxants', -257.1944215469772),\n",
       " ('Medicine_Type_Antifungal', -365.4799209551158),\n",
       " ('Medicine_Type_Stimulants', -320.68780672017374),\n",
       " ('SidEffect_Level_mild', 1.4783772546206164),\n",
       " ('Area_Type_DownTown', 505.57460184764193),\n",
       " ('Area_Type_MidTownResidential', -1025.2445016233044),\n",
       " ('Area_Type_CityLimits', 753.4217795395143),\n",
       " ('Area_City_Type_Tier 3', 228.5266391146266),\n",
       " ('Area_City_Type_Tier 2', 300.40544898138523),\n",
       " ('Area_dist_level_Medium', 391.182483965881),\n",
       " ('Area_dist_level_Unknown', -157.8363090649045),\n",
       " ('Area_dist_level_Small', -189.8633261312425)]"
      ]
     },
     "execution_count": 19,
     "metadata": {},
     "output_type": "execute_result"
    }
   ],
   "source": [
    "list(zip(X_train.columns,lm.coef_))"
   ]
  },
  {
   "cell_type": "code",
   "execution_count": 20,
   "metadata": {},
   "outputs": [],
   "source": [
    "predicted=lm.predict(X_test)"
   ]
  },
  {
   "cell_type": "code",
   "execution_count": 21,
   "metadata": {},
   "outputs": [
    {
     "data": {
      "text/plain": [
       "830.050146841315"
      ]
     },
     "execution_count": 21,
     "metadata": {},
     "output_type": "execute_result"
    }
   ],
   "source": [
    "mean_absolute_error(y_test,predicted)"
   ]
  },
  {
   "cell_type": "markdown",
   "metadata": {},
   "source": [
    " MAE comes to 830 in this case."
   ]
  },
  {
   "cell_type": "markdown",
   "metadata": {},
   "source": [
    "# Lasso Model"
   ]
  },
  {
   "cell_type": "code",
   "execution_count": 22,
   "metadata": {},
   "outputs": [],
   "source": [
    "lambdas=np.linspace(5,15,100)\n",
    "params={'alpha':lambdas}"
   ]
  },
  {
   "cell_type": "code",
   "execution_count": 23,
   "metadata": {},
   "outputs": [],
   "source": [
    "model=Lasso(fit_intercept=True)"
   ]
  },
  {
   "cell_type": "code",
   "execution_count": 24,
   "metadata": {},
   "outputs": [],
   "source": [
    "lasmod=GridSearchCV(model,param_grid=params,cv=10,scoring='neg_mean_absolute_error')"
   ]
  },
  {
   "cell_type": "code",
   "execution_count": 25,
   "metadata": {},
   "outputs": [
    {
     "data": {
      "text/plain": [
       "GridSearchCV(cv=10, error_score='raise-deprecating',\n",
       "       estimator=Lasso(alpha=1.0, copy_X=True, fit_intercept=True, max_iter=1000,\n",
       "   normalize=False, positive=False, precompute=False, random_state=None,\n",
       "   selection='cyclic', tol=0.0001, warm_start=False),\n",
       "       fit_params=None, iid='warn', n_jobs=None,\n",
       "       param_grid={'alpha': array([ 5.     ,  5.10101, ..., 14.89899, 15.     ])},\n",
       "       pre_dispatch='2*n_jobs', refit=True, return_train_score='warn',\n",
       "       scoring='neg_mean_absolute_error', verbose=0)"
      ]
     },
     "execution_count": 25,
     "metadata": {},
     "output_type": "execute_result"
    }
   ],
   "source": [
    "lasmod.fit(X_train,y_train)"
   ]
  },
  {
   "cell_type": "code",
   "execution_count": 26,
   "metadata": {},
   "outputs": [
    {
     "data": {
      "text/plain": [
       "Lasso(alpha=8.333333333333334, copy_X=True, fit_intercept=True, max_iter=1000,\n",
       "   normalize=False, positive=False, precompute=False, random_state=None,\n",
       "   selection='cyclic', tol=0.0001, warm_start=False)"
      ]
     },
     "execution_count": 26,
     "metadata": {},
     "output_type": "execute_result"
    }
   ],
   "source": [
    "lasmod.best_estimator_"
   ]
  },
  {
   "cell_type": "code",
   "execution_count": 27,
   "metadata": {},
   "outputs": [],
   "source": [
    "lasso_model=lasmod.best_estimator_"
   ]
  },
  {
   "cell_type": "code",
   "execution_count": 28,
   "metadata": {},
   "outputs": [
    {
     "data": {
      "text/plain": [
       "Lasso(alpha=8.333333333333334, copy_X=True, fit_intercept=True, max_iter=1000,\n",
       "   normalize=False, positive=False, precompute=False, random_state=None,\n",
       "   selection='cyclic', tol=0.0001, warm_start=False)"
      ]
     },
     "execution_count": 28,
     "metadata": {},
     "output_type": "execute_result"
    }
   ],
   "source": [
    "lasso_model.fit(X_train,y_train)"
   ]
  },
  {
   "cell_type": "code",
   "execution_count": 29,
   "metadata": {},
   "outputs": [
    {
     "data": {
      "text/plain": [
       "[('Counterfeit_Weight', -4.597030359171696),\n",
       " ('Active_Since', -0.6942976854481621),\n",
       " ('Medicine_MRP', 15.414894718372992),\n",
       " ('Availability_rating', -0.0),\n",
       " ('DistArea_ID_Area027', 1572.5980867626008),\n",
       " ('DistArea_ID_Area013', -0.0),\n",
       " ('DistArea_ID_Area035', 40.86413506850696),\n",
       " ('DistArea_ID_Area049', 0.0),\n",
       " ('DistArea_ID_Area046', -0.0),\n",
       " ('DistArea_ID_Area045', -24.884775587596074),\n",
       " ('DistArea_ID_Area018', -0.0),\n",
       " ('DistArea_ID_Area017', 0.0),\n",
       " ('DistArea_ID_Area010', -0.0),\n",
       " ('Medicine_Type_Antibiotics', 3.337449383714278),\n",
       " ('Medicine_Type_Hreplacements', -0.0),\n",
       " ('Medicine_Type_Antiseptics', -0.0),\n",
       " ('Medicine_Type_OralContraceptives', -0.0),\n",
       " ('Medicine_Type_Antipyretics', -0.0),\n",
       " ('Medicine_Type_Cardiac', 0.0),\n",
       " ('Medicine_Type_Mstablizers', -0.0),\n",
       " ('Medicine_Type_Tranquilizers', -0.0),\n",
       " ('Medicine_Type_Analgesics', -0.0),\n",
       " ('Medicine_Type_Antimalarial', 0.0),\n",
       " ('Medicine_Type_Antacids', -0.0),\n",
       " ('Medicine_Type_Statins', 0.0),\n",
       " ('Medicine_Type_MuscleRelaxants', 0.0),\n",
       " ('Medicine_Type_Antifungal', -0.0),\n",
       " ('Medicine_Type_Stimulants', 0.0),\n",
       " ('SidEffect_Level_mild', -0.0),\n",
       " ('Area_Type_DownTown', 242.18330224774425),\n",
       " ('Area_Type_MidTownResidential', -1631.331524409826),\n",
       " ('Area_Type_CityLimits', 0.0),\n",
       " ('Area_City_Type_Tier 3', -0.0),\n",
       " ('Area_City_Type_Tier 2', 0.0),\n",
       " ('Area_dist_level_Medium', 0.0),\n",
       " ('Area_dist_level_Unknown', -0.0),\n",
       " ('Area_dist_level_Small', 0.0)]"
      ]
     },
     "execution_count": 29,
     "metadata": {},
     "output_type": "execute_result"
    }
   ],
   "source": [
    "list(zip(X_train.columns,lasso_model.coef_))"
   ]
  },
  {
   "cell_type": "code",
   "execution_count": 30,
   "metadata": {},
   "outputs": [],
   "source": [
    "lasso_pred=lasso_model.predict(X_test)"
   ]
  },
  {
   "cell_type": "code",
   "execution_count": 31,
   "metadata": {},
   "outputs": [
    {
     "data": {
      "text/plain": [
       "824.6189488122499"
      ]
     },
     "execution_count": 31,
     "metadata": {},
     "output_type": "execute_result"
    }
   ],
   "source": [
    "mean_absolute_error(y_test,lasso_pred)"
   ]
  },
  {
   "cell_type": "markdown",
   "metadata": {},
   "source": [
    "MAE has slightly improved from 830 to 825 from linear regression to lasso regression"
   ]
  },
  {
   "cell_type": "markdown",
   "metadata": {},
   "source": [
    "# RF"
   ]
  },
  {
   "cell_type": "code",
   "execution_count": 32,
   "metadata": {},
   "outputs": [],
   "source": [
    "from sklearn.model_selection import RandomizedSearchCV"
   ]
  },
  {
   "cell_type": "code",
   "execution_count": 33,
   "metadata": {},
   "outputs": [],
   "source": [
    "param_dist = {\"n_estimators\":[100,200,300,500,700,1000],\n",
    "              \"max_features\": [5,10,20,25,30,35],\n",
    "              \"bootstrap\": [True, False],\n",
    "                'max_depth':[None,5,10,15,20,30,50,70],\n",
    "                'min_samples_leaf':[1,2,5,10,15,20], \n",
    "                'min_samples_split':[2,5,10,15,20]\n",
    "                  }"
   ]
  },
  {
   "cell_type": "code",
   "execution_count": 34,
   "metadata": {},
   "outputs": [],
   "source": [
    "from sklearn.ensemble import RandomForestRegressor"
   ]
  },
  {
   "cell_type": "code",
   "execution_count": 35,
   "metadata": {},
   "outputs": [],
   "source": [
    "rf=RandomForestRegressor()"
   ]
  },
  {
   "cell_type": "code",
   "execution_count": 36,
   "metadata": {},
   "outputs": [],
   "source": [
    "ranfor=RandomizedSearchCV(rf,cv=10,\n",
    "                                 param_distributions=param_dist,\n",
    "                                 scoring='neg_mean_absolute_error',\n",
    "                                 n_iter=10,verbose=10\n",
    "                                    )"
   ]
  },
  {
   "cell_type": "code",
   "execution_count": 37,
   "metadata": {},
   "outputs": [
    {
     "name": "stdout",
     "output_type": "stream",
     "text": [
      "Fitting 10 folds for each of 10 candidates, totalling 100 fits\n",
      "[CV] n_estimators=200, min_samples_split=20, min_samples_leaf=1, max_features=10, max_depth=50, bootstrap=True \n"
     ]
    },
    {
     "name": "stderr",
     "output_type": "stream",
     "text": [
      "[Parallel(n_jobs=1)]: Using backend SequentialBackend with 1 concurrent workers.\n"
     ]
    },
    {
     "name": "stdout",
     "output_type": "stream",
     "text": [
      "[CV]  n_estimators=200, min_samples_split=20, min_samples_leaf=1, max_features=10, max_depth=50, bootstrap=True, score=-762.1089841701751, total=   2.2s\n",
      "[CV] n_estimators=200, min_samples_split=20, min_samples_leaf=1, max_features=10, max_depth=50, bootstrap=True \n"
     ]
    },
    {
     "name": "stderr",
     "output_type": "stream",
     "text": [
      "[Parallel(n_jobs=1)]: Done   1 out of   1 | elapsed:    2.4s remaining:    0.0s\n"
     ]
    },
    {
     "name": "stdout",
     "output_type": "stream",
     "text": [
      "[CV]  n_estimators=200, min_samples_split=20, min_samples_leaf=1, max_features=10, max_depth=50, bootstrap=True, score=-781.5269337469547, total=   2.1s\n",
      "[CV] n_estimators=200, min_samples_split=20, min_samples_leaf=1, max_features=10, max_depth=50, bootstrap=True \n"
     ]
    },
    {
     "name": "stderr",
     "output_type": "stream",
     "text": [
      "[Parallel(n_jobs=1)]: Done   2 out of   2 | elapsed:    4.8s remaining:    0.0s\n"
     ]
    },
    {
     "name": "stdout",
     "output_type": "stream",
     "text": [
      "[CV]  n_estimators=200, min_samples_split=20, min_samples_leaf=1, max_features=10, max_depth=50, bootstrap=True, score=-800.036998992314, total=   2.0s\n",
      "[CV] n_estimators=200, min_samples_split=20, min_samples_leaf=1, max_features=10, max_depth=50, bootstrap=True \n"
     ]
    },
    {
     "name": "stderr",
     "output_type": "stream",
     "text": [
      "[Parallel(n_jobs=1)]: Done   3 out of   3 | elapsed:    7.1s remaining:    0.0s\n"
     ]
    },
    {
     "name": "stdout",
     "output_type": "stream",
     "text": [
      "[CV]  n_estimators=200, min_samples_split=20, min_samples_leaf=1, max_features=10, max_depth=50, bootstrap=True, score=-776.1013853566363, total=   2.0s\n",
      "[CV] n_estimators=200, min_samples_split=20, min_samples_leaf=1, max_features=10, max_depth=50, bootstrap=True \n"
     ]
    },
    {
     "name": "stderr",
     "output_type": "stream",
     "text": [
      "[Parallel(n_jobs=1)]: Done   4 out of   4 | elapsed:    9.5s remaining:    0.0s\n"
     ]
    },
    {
     "name": "stdout",
     "output_type": "stream",
     "text": [
      "[CV]  n_estimators=200, min_samples_split=20, min_samples_leaf=1, max_features=10, max_depth=50, bootstrap=True, score=-719.9217812263984, total=   2.1s\n",
      "[CV] n_estimators=200, min_samples_split=20, min_samples_leaf=1, max_features=10, max_depth=50, bootstrap=True \n"
     ]
    },
    {
     "name": "stderr",
     "output_type": "stream",
     "text": [
      "[Parallel(n_jobs=1)]: Done   5 out of   5 | elapsed:   11.9s remaining:    0.0s\n"
     ]
    },
    {
     "name": "stdout",
     "output_type": "stream",
     "text": [
      "[CV]  n_estimators=200, min_samples_split=20, min_samples_leaf=1, max_features=10, max_depth=50, bootstrap=True, score=-735.7997560631633, total=   2.0s\n",
      "[CV] n_estimators=200, min_samples_split=20, min_samples_leaf=1, max_features=10, max_depth=50, bootstrap=True \n"
     ]
    },
    {
     "name": "stderr",
     "output_type": "stream",
     "text": [
      "[Parallel(n_jobs=1)]: Done   6 out of   6 | elapsed:   14.2s remaining:    0.0s\n"
     ]
    },
    {
     "name": "stdout",
     "output_type": "stream",
     "text": [
      "[CV]  n_estimators=200, min_samples_split=20, min_samples_leaf=1, max_features=10, max_depth=50, bootstrap=True, score=-753.2008231741129, total=   2.4s\n",
      "[CV] n_estimators=200, min_samples_split=20, min_samples_leaf=1, max_features=10, max_depth=50, bootstrap=True \n"
     ]
    },
    {
     "name": "stderr",
     "output_type": "stream",
     "text": [
      "[Parallel(n_jobs=1)]: Done   7 out of   7 | elapsed:   17.0s remaining:    0.0s\n"
     ]
    },
    {
     "name": "stdout",
     "output_type": "stream",
     "text": [
      "[CV]  n_estimators=200, min_samples_split=20, min_samples_leaf=1, max_features=10, max_depth=50, bootstrap=True, score=-776.7436282043898, total=   2.0s\n",
      "[CV] n_estimators=200, min_samples_split=20, min_samples_leaf=1, max_features=10, max_depth=50, bootstrap=True \n"
     ]
    },
    {
     "name": "stderr",
     "output_type": "stream",
     "text": [
      "[Parallel(n_jobs=1)]: Done   8 out of   8 | elapsed:   19.3s remaining:    0.0s\n"
     ]
    },
    {
     "name": "stdout",
     "output_type": "stream",
     "text": [
      "[CV]  n_estimators=200, min_samples_split=20, min_samples_leaf=1, max_features=10, max_depth=50, bootstrap=True, score=-733.0844518944683, total=   2.3s\n",
      "[CV] n_estimators=200, min_samples_split=20, min_samples_leaf=1, max_features=10, max_depth=50, bootstrap=True \n"
     ]
    },
    {
     "name": "stderr",
     "output_type": "stream",
     "text": [
      "[Parallel(n_jobs=1)]: Done   9 out of   9 | elapsed:   22.0s remaining:    0.0s\n"
     ]
    },
    {
     "name": "stdout",
     "output_type": "stream",
     "text": [
      "[CV]  n_estimators=200, min_samples_split=20, min_samples_leaf=1, max_features=10, max_depth=50, bootstrap=True, score=-752.4241113965619, total=   2.1s\n",
      "[CV] n_estimators=200, min_samples_split=5, min_samples_leaf=15, max_features=10, max_depth=30, bootstrap=True \n",
      "[CV]  n_estimators=200, min_samples_split=5, min_samples_leaf=15, max_features=10, max_depth=30, bootstrap=True, score=-762.3192812825444, total=   1.5s\n",
      "[CV] n_estimators=200, min_samples_split=5, min_samples_leaf=15, max_features=10, max_depth=30, bootstrap=True \n",
      "[CV]  n_estimators=200, min_samples_split=5, min_samples_leaf=15, max_features=10, max_depth=30, bootstrap=True, score=-791.2777427820819, total=   1.5s\n",
      "[CV] n_estimators=200, min_samples_split=5, min_samples_leaf=15, max_features=10, max_depth=30, bootstrap=True \n",
      "[CV]  n_estimators=200, min_samples_split=5, min_samples_leaf=15, max_features=10, max_depth=30, bootstrap=True, score=-801.0437450112836, total=   1.5s\n",
      "[CV] n_estimators=200, min_samples_split=5, min_samples_leaf=15, max_features=10, max_depth=30, bootstrap=True \n",
      "[CV]  n_estimators=200, min_samples_split=5, min_samples_leaf=15, max_features=10, max_depth=30, bootstrap=True, score=-767.7266663745324, total=   1.6s\n",
      "[CV] n_estimators=200, min_samples_split=5, min_samples_leaf=15, max_features=10, max_depth=30, bootstrap=True \n",
      "[CV]  n_estimators=200, min_samples_split=5, min_samples_leaf=15, max_features=10, max_depth=30, bootstrap=True, score=-732.4865268513879, total=   1.7s\n",
      "[CV] n_estimators=200, min_samples_split=5, min_samples_leaf=15, max_features=10, max_depth=30, bootstrap=True \n",
      "[CV]  n_estimators=200, min_samples_split=5, min_samples_leaf=15, max_features=10, max_depth=30, bootstrap=True, score=-747.8631771800418, total=   1.5s\n",
      "[CV] n_estimators=200, min_samples_split=5, min_samples_leaf=15, max_features=10, max_depth=30, bootstrap=True \n",
      "[CV]  n_estimators=200, min_samples_split=5, min_samples_leaf=15, max_features=10, max_depth=30, bootstrap=True, score=-754.7874765086246, total=   1.5s\n",
      "[CV] n_estimators=200, min_samples_split=5, min_samples_leaf=15, max_features=10, max_depth=30, bootstrap=True \n",
      "[CV]  n_estimators=200, min_samples_split=5, min_samples_leaf=15, max_features=10, max_depth=30, bootstrap=True, score=-782.0751809441866, total=   1.5s\n",
      "[CV] n_estimators=200, min_samples_split=5, min_samples_leaf=15, max_features=10, max_depth=30, bootstrap=True \n",
      "[CV]  n_estimators=200, min_samples_split=5, min_samples_leaf=15, max_features=10, max_depth=30, bootstrap=True, score=-727.0491689652837, total=   1.6s\n",
      "[CV] n_estimators=200, min_samples_split=5, min_samples_leaf=15, max_features=10, max_depth=30, bootstrap=True \n",
      "[CV]  n_estimators=200, min_samples_split=5, min_samples_leaf=15, max_features=10, max_depth=30, bootstrap=True, score=-761.6970183246215, total=   1.6s\n",
      "[CV] n_estimators=200, min_samples_split=20, min_samples_leaf=15, max_features=30, max_depth=15, bootstrap=False \n",
      "[CV]  n_estimators=200, min_samples_split=20, min_samples_leaf=15, max_features=30, max_depth=15, bootstrap=False, score=-781.8623760104211, total=   7.1s\n",
      "[CV] n_estimators=200, min_samples_split=20, min_samples_leaf=15, max_features=30, max_depth=15, bootstrap=False \n",
      "[CV]  n_estimators=200, min_samples_split=20, min_samples_leaf=15, max_features=30, max_depth=15, bootstrap=False, score=-801.7577858020098, total=   6.5s\n",
      "[CV] n_estimators=200, min_samples_split=20, min_samples_leaf=15, max_features=30, max_depth=15, bootstrap=False \n",
      "[CV]  n_estimators=200, min_samples_split=20, min_samples_leaf=15, max_features=30, max_depth=15, bootstrap=False, score=-791.9166415766427, total=   6.6s\n",
      "[CV] n_estimators=200, min_samples_split=20, min_samples_leaf=15, max_features=30, max_depth=15, bootstrap=False \n",
      "[CV]  n_estimators=200, min_samples_split=20, min_samples_leaf=15, max_features=30, max_depth=15, bootstrap=False, score=-789.2474355131128, total=   6.6s\n",
      "[CV] n_estimators=200, min_samples_split=20, min_samples_leaf=15, max_features=30, max_depth=15, bootstrap=False \n",
      "[CV]  n_estimators=200, min_samples_split=20, min_samples_leaf=15, max_features=30, max_depth=15, bootstrap=False, score=-713.2141292079369, total=   6.6s\n",
      "[CV] n_estimators=200, min_samples_split=20, min_samples_leaf=15, max_features=30, max_depth=15, bootstrap=False \n",
      "[CV]  n_estimators=200, min_samples_split=20, min_samples_leaf=15, max_features=30, max_depth=15, bootstrap=False, score=-749.3687805583883, total=   6.8s\n",
      "[CV] n_estimators=200, min_samples_split=20, min_samples_leaf=15, max_features=30, max_depth=15, bootstrap=False \n",
      "[CV]  n_estimators=200, min_samples_split=20, min_samples_leaf=15, max_features=30, max_depth=15, bootstrap=False, score=-752.5022393539682, total=   6.5s\n",
      "[CV] n_estimators=200, min_samples_split=20, min_samples_leaf=15, max_features=30, max_depth=15, bootstrap=False \n",
      "[CV]  n_estimators=200, min_samples_split=20, min_samples_leaf=15, max_features=30, max_depth=15, bootstrap=False, score=-791.2496840315391, total=   6.8s\n",
      "[CV] n_estimators=200, min_samples_split=20, min_samples_leaf=15, max_features=30, max_depth=15, bootstrap=False \n",
      "[CV]  n_estimators=200, min_samples_split=20, min_samples_leaf=15, max_features=30, max_depth=15, bootstrap=False, score=-755.5282928590728, total=   6.4s\n",
      "[CV] n_estimators=200, min_samples_split=20, min_samples_leaf=15, max_features=30, max_depth=15, bootstrap=False \n",
      "[CV]  n_estimators=200, min_samples_split=20, min_samples_leaf=15, max_features=30, max_depth=15, bootstrap=False, score=-773.8218616592918, total=   7.3s\n",
      "[CV] n_estimators=100, min_samples_split=5, min_samples_leaf=2, max_features=30, max_depth=None, bootstrap=True \n",
      "[CV]  n_estimators=100, min_samples_split=5, min_samples_leaf=2, max_features=30, max_depth=None, bootstrap=True, score=-782.7271121524523, total=   3.1s\n",
      "[CV] n_estimators=100, min_samples_split=5, min_samples_leaf=2, max_features=30, max_depth=None, bootstrap=True \n",
      "[CV]  n_estimators=100, min_samples_split=5, min_samples_leaf=2, max_features=30, max_depth=None, bootstrap=True, score=-795.1765151778384, total=   3.1s\n",
      "[CV] n_estimators=100, min_samples_split=5, min_samples_leaf=2, max_features=30, max_depth=None, bootstrap=True \n",
      "[CV]  n_estimators=100, min_samples_split=5, min_samples_leaf=2, max_features=30, max_depth=None, bootstrap=True, score=-808.2382166379916, total=   3.1s\n",
      "[CV] n_estimators=100, min_samples_split=5, min_samples_leaf=2, max_features=30, max_depth=None, bootstrap=True \n",
      "[CV]  n_estimators=100, min_samples_split=5, min_samples_leaf=2, max_features=30, max_depth=None, bootstrap=True, score=-807.2096158995623, total=   3.1s\n",
      "[CV] n_estimators=100, min_samples_split=5, min_samples_leaf=2, max_features=30, max_depth=None, bootstrap=True \n",
      "[CV]  n_estimators=100, min_samples_split=5, min_samples_leaf=2, max_features=30, max_depth=None, bootstrap=True, score=-719.46531278522, total=   3.5s\n",
      "[CV] n_estimators=100, min_samples_split=5, min_samples_leaf=2, max_features=30, max_depth=None, bootstrap=True \n",
      "[CV]  n_estimators=100, min_samples_split=5, min_samples_leaf=2, max_features=30, max_depth=None, bootstrap=True, score=-753.0708791460105, total=   3.1s\n",
      "[CV] n_estimators=100, min_samples_split=5, min_samples_leaf=2, max_features=30, max_depth=None, bootstrap=True \n",
      "[CV]  n_estimators=100, min_samples_split=5, min_samples_leaf=2, max_features=30, max_depth=None, bootstrap=True, score=-764.670862243082, total=   3.1s\n",
      "[CV] n_estimators=100, min_samples_split=5, min_samples_leaf=2, max_features=30, max_depth=None, bootstrap=True \n",
      "[CV]  n_estimators=100, min_samples_split=5, min_samples_leaf=2, max_features=30, max_depth=None, bootstrap=True, score=-789.6966026812877, total=   3.1s\n",
      "[CV] n_estimators=100, min_samples_split=5, min_samples_leaf=2, max_features=30, max_depth=None, bootstrap=True \n",
      "[CV]  n_estimators=100, min_samples_split=5, min_samples_leaf=2, max_features=30, max_depth=None, bootstrap=True, score=-743.8109673137338, total=   3.2s\n",
      "[CV] n_estimators=100, min_samples_split=5, min_samples_leaf=2, max_features=30, max_depth=None, bootstrap=True \n",
      "[CV]  n_estimators=100, min_samples_split=5, min_samples_leaf=2, max_features=30, max_depth=None, bootstrap=True, score=-778.3352425194132, total=   3.3s\n",
      "[CV] n_estimators=500, min_samples_split=5, min_samples_leaf=1, max_features=5, max_depth=5, bootstrap=False \n"
     ]
    },
    {
     "name": "stdout",
     "output_type": "stream",
     "text": [
      "[CV]  n_estimators=500, min_samples_split=5, min_samples_leaf=1, max_features=5, max_depth=5, bootstrap=False, score=-894.3201896683848, total=   1.9s\n",
      "[CV] n_estimators=500, min_samples_split=5, min_samples_leaf=1, max_features=5, max_depth=5, bootstrap=False \n",
      "[CV]  n_estimators=500, min_samples_split=5, min_samples_leaf=1, max_features=5, max_depth=5, bootstrap=False, score=-948.2991413970032, total=   1.9s\n",
      "[CV] n_estimators=500, min_samples_split=5, min_samples_leaf=1, max_features=5, max_depth=5, bootstrap=False \n",
      "[CV]  n_estimators=500, min_samples_split=5, min_samples_leaf=1, max_features=5, max_depth=5, bootstrap=False, score=-985.2466112348612, total=   1.9s\n",
      "[CV] n_estimators=500, min_samples_split=5, min_samples_leaf=1, max_features=5, max_depth=5, bootstrap=False \n",
      "[CV]  n_estimators=500, min_samples_split=5, min_samples_leaf=1, max_features=5, max_depth=5, bootstrap=False, score=-917.3102533098811, total=   1.9s\n",
      "[CV] n_estimators=500, min_samples_split=5, min_samples_leaf=1, max_features=5, max_depth=5, bootstrap=False \n",
      "[CV]  n_estimators=500, min_samples_split=5, min_samples_leaf=1, max_features=5, max_depth=5, bootstrap=False, score=-917.240803972312, total=   1.9s\n",
      "[CV] n_estimators=500, min_samples_split=5, min_samples_leaf=1, max_features=5, max_depth=5, bootstrap=False \n",
      "[CV]  n_estimators=500, min_samples_split=5, min_samples_leaf=1, max_features=5, max_depth=5, bootstrap=False, score=-954.6297721371691, total=   2.2s\n",
      "[CV] n_estimators=500, min_samples_split=5, min_samples_leaf=1, max_features=5, max_depth=5, bootstrap=False \n",
      "[CV]  n_estimators=500, min_samples_split=5, min_samples_leaf=1, max_features=5, max_depth=5, bootstrap=False, score=-915.8385738188755, total=   1.9s\n",
      "[CV] n_estimators=500, min_samples_split=5, min_samples_leaf=1, max_features=5, max_depth=5, bootstrap=False \n",
      "[CV]  n_estimators=500, min_samples_split=5, min_samples_leaf=1, max_features=5, max_depth=5, bootstrap=False, score=-924.7079913314991, total=   2.0s\n",
      "[CV] n_estimators=500, min_samples_split=5, min_samples_leaf=1, max_features=5, max_depth=5, bootstrap=False \n",
      "[CV]  n_estimators=500, min_samples_split=5, min_samples_leaf=1, max_features=5, max_depth=5, bootstrap=False, score=-871.7715322946112, total=   2.0s\n",
      "[CV] n_estimators=500, min_samples_split=5, min_samples_leaf=1, max_features=5, max_depth=5, bootstrap=False \n",
      "[CV]  n_estimators=500, min_samples_split=5, min_samples_leaf=1, max_features=5, max_depth=5, bootstrap=False, score=-940.8476278102112, total=   1.9s\n",
      "[CV] n_estimators=200, min_samples_split=5, min_samples_leaf=1, max_features=5, max_depth=5, bootstrap=True \n",
      "[CV]  n_estimators=200, min_samples_split=5, min_samples_leaf=1, max_features=5, max_depth=5, bootstrap=True, score=-898.6048224904522, total=   0.5s\n",
      "[CV] n_estimators=200, min_samples_split=5, min_samples_leaf=1, max_features=5, max_depth=5, bootstrap=True \n",
      "[CV]  n_estimators=200, min_samples_split=5, min_samples_leaf=1, max_features=5, max_depth=5, bootstrap=True, score=-954.7442234691555, total=   0.6s\n",
      "[CV] n_estimators=200, min_samples_split=5, min_samples_leaf=1, max_features=5, max_depth=5, bootstrap=True \n",
      "[CV]  n_estimators=200, min_samples_split=5, min_samples_leaf=1, max_features=5, max_depth=5, bootstrap=True, score=-952.752339729926, total=   0.7s\n",
      "[CV] n_estimators=200, min_samples_split=5, min_samples_leaf=1, max_features=5, max_depth=5, bootstrap=True \n",
      "[CV]  n_estimators=200, min_samples_split=5, min_samples_leaf=1, max_features=5, max_depth=5, bootstrap=True, score=-913.6670995447579, total=   0.7s\n",
      "[CV] n_estimators=200, min_samples_split=5, min_samples_leaf=1, max_features=5, max_depth=5, bootstrap=True \n",
      "[CV]  n_estimators=200, min_samples_split=5, min_samples_leaf=1, max_features=5, max_depth=5, bootstrap=True, score=-920.1297313890905, total=   0.7s\n",
      "[CV] n_estimators=200, min_samples_split=5, min_samples_leaf=1, max_features=5, max_depth=5, bootstrap=True \n",
      "[CV]  n_estimators=200, min_samples_split=5, min_samples_leaf=1, max_features=5, max_depth=5, bootstrap=True, score=-947.3295644657735, total=   0.7s\n",
      "[CV] n_estimators=200, min_samples_split=5, min_samples_leaf=1, max_features=5, max_depth=5, bootstrap=True \n",
      "[CV]  n_estimators=200, min_samples_split=5, min_samples_leaf=1, max_features=5, max_depth=5, bootstrap=True, score=-922.244544459259, total=   0.7s\n",
      "[CV] n_estimators=200, min_samples_split=5, min_samples_leaf=1, max_features=5, max_depth=5, bootstrap=True \n",
      "[CV]  n_estimators=200, min_samples_split=5, min_samples_leaf=1, max_features=5, max_depth=5, bootstrap=True, score=-918.3631785595148, total=   0.8s\n",
      "[CV] n_estimators=200, min_samples_split=5, min_samples_leaf=1, max_features=5, max_depth=5, bootstrap=True \n",
      "[CV]  n_estimators=200, min_samples_split=5, min_samples_leaf=1, max_features=5, max_depth=5, bootstrap=True, score=-873.0820414267703, total=   0.6s\n",
      "[CV] n_estimators=200, min_samples_split=5, min_samples_leaf=1, max_features=5, max_depth=5, bootstrap=True \n",
      "[CV]  n_estimators=200, min_samples_split=5, min_samples_leaf=1, max_features=5, max_depth=5, bootstrap=True, score=-940.9102198330748, total=   0.5s\n",
      "[CV] n_estimators=1000, min_samples_split=5, min_samples_leaf=20, max_features=25, max_depth=30, bootstrap=False \n",
      "[CV]  n_estimators=1000, min_samples_split=5, min_samples_leaf=20, max_features=25, max_depth=30, bootstrap=False, score=-768.0214448004787, total=  26.4s\n",
      "[CV] n_estimators=1000, min_samples_split=5, min_samples_leaf=20, max_features=25, max_depth=30, bootstrap=False \n",
      "[CV]  n_estimators=1000, min_samples_split=5, min_samples_leaf=20, max_features=25, max_depth=30, bootstrap=False, score=-792.5327828575106, total=  27.0s\n",
      "[CV] n_estimators=1000, min_samples_split=5, min_samples_leaf=20, max_features=25, max_depth=30, bootstrap=False \n",
      "[CV]  n_estimators=1000, min_samples_split=5, min_samples_leaf=20, max_features=25, max_depth=30, bootstrap=False, score=-791.0984291361708, total=  27.5s\n",
      "[CV] n_estimators=1000, min_samples_split=5, min_samples_leaf=20, max_features=25, max_depth=30, bootstrap=False \n",
      "[CV]  n_estimators=1000, min_samples_split=5, min_samples_leaf=20, max_features=25, max_depth=30, bootstrap=False, score=-776.327672234695, total=  27.3s\n",
      "[CV] n_estimators=1000, min_samples_split=5, min_samples_leaf=20, max_features=25, max_depth=30, bootstrap=False \n",
      "[CV]  n_estimators=1000, min_samples_split=5, min_samples_leaf=20, max_features=25, max_depth=30, bootstrap=False, score=-710.6038389146075, total=  26.9s\n",
      "[CV] n_estimators=1000, min_samples_split=5, min_samples_leaf=20, max_features=25, max_depth=30, bootstrap=False \n",
      "[CV]  n_estimators=1000, min_samples_split=5, min_samples_leaf=20, max_features=25, max_depth=30, bootstrap=False, score=-736.2220269731142, total=  27.3s\n",
      "[CV] n_estimators=1000, min_samples_split=5, min_samples_leaf=20, max_features=25, max_depth=30, bootstrap=False \n",
      "[CV]  n_estimators=1000, min_samples_split=5, min_samples_leaf=20, max_features=25, max_depth=30, bootstrap=False, score=-741.526690117732, total=  27.6s\n",
      "[CV] n_estimators=1000, min_samples_split=5, min_samples_leaf=20, max_features=25, max_depth=30, bootstrap=False \n",
      "[CV]  n_estimators=1000, min_samples_split=5, min_samples_leaf=20, max_features=25, max_depth=30, bootstrap=False, score=-782.5293213097199, total=  26.9s\n",
      "[CV] n_estimators=1000, min_samples_split=5, min_samples_leaf=20, max_features=25, max_depth=30, bootstrap=False \n",
      "[CV]  n_estimators=1000, min_samples_split=5, min_samples_leaf=20, max_features=25, max_depth=30, bootstrap=False, score=-731.928724328477, total=  26.4s\n",
      "[CV] n_estimators=1000, min_samples_split=5, min_samples_leaf=20, max_features=25, max_depth=30, bootstrap=False \n",
      "[CV]  n_estimators=1000, min_samples_split=5, min_samples_leaf=20, max_features=25, max_depth=30, bootstrap=False, score=-757.3300735055603, total=  27.5s\n",
      "[CV] n_estimators=300, min_samples_split=15, min_samples_leaf=10, max_features=10, max_depth=50, bootstrap=False \n",
      "[CV]  n_estimators=300, min_samples_split=15, min_samples_leaf=10, max_features=10, max_depth=50, bootstrap=False, score=-763.341653902163, total=   4.0s\n",
      "[CV] n_estimators=300, min_samples_split=15, min_samples_leaf=10, max_features=10, max_depth=50, bootstrap=False \n",
      "[CV]  n_estimators=300, min_samples_split=15, min_samples_leaf=10, max_features=10, max_depth=50, bootstrap=False, score=-779.752982888146, total=   4.2s\n",
      "[CV] n_estimators=300, min_samples_split=15, min_samples_leaf=10, max_features=10, max_depth=50, bootstrap=False \n"
     ]
    },
    {
     "name": "stdout",
     "output_type": "stream",
     "text": [
      "[CV]  n_estimators=300, min_samples_split=15, min_samples_leaf=10, max_features=10, max_depth=50, bootstrap=False, score=-800.5872241749362, total=   3.9s\n",
      "[CV] n_estimators=300, min_samples_split=15, min_samples_leaf=10, max_features=10, max_depth=50, bootstrap=False \n",
      "[CV]  n_estimators=300, min_samples_split=15, min_samples_leaf=10, max_features=10, max_depth=50, bootstrap=False, score=-767.9801738218728, total=   3.9s\n",
      "[CV] n_estimators=300, min_samples_split=15, min_samples_leaf=10, max_features=10, max_depth=50, bootstrap=False \n",
      "[CV]  n_estimators=300, min_samples_split=15, min_samples_leaf=10, max_features=10, max_depth=50, bootstrap=False, score=-719.1085829017536, total=   4.2s\n",
      "[CV] n_estimators=300, min_samples_split=15, min_samples_leaf=10, max_features=10, max_depth=50, bootstrap=False \n",
      "[CV]  n_estimators=300, min_samples_split=15, min_samples_leaf=10, max_features=10, max_depth=50, bootstrap=False, score=-733.3598774920719, total=   4.0s\n",
      "[CV] n_estimators=300, min_samples_split=15, min_samples_leaf=10, max_features=10, max_depth=50, bootstrap=False \n",
      "[CV]  n_estimators=300, min_samples_split=15, min_samples_leaf=10, max_features=10, max_depth=50, bootstrap=False, score=-753.9119081924409, total=   4.0s\n",
      "[CV] n_estimators=300, min_samples_split=15, min_samples_leaf=10, max_features=10, max_depth=50, bootstrap=False \n",
      "[CV]  n_estimators=300, min_samples_split=15, min_samples_leaf=10, max_features=10, max_depth=50, bootstrap=False, score=-775.2912652379777, total=   4.0s\n",
      "[CV] n_estimators=300, min_samples_split=15, min_samples_leaf=10, max_features=10, max_depth=50, bootstrap=False \n",
      "[CV]  n_estimators=300, min_samples_split=15, min_samples_leaf=10, max_features=10, max_depth=50, bootstrap=False, score=-731.9699317615292, total=   4.2s\n",
      "[CV] n_estimators=300, min_samples_split=15, min_samples_leaf=10, max_features=10, max_depth=50, bootstrap=False \n",
      "[CV]  n_estimators=300, min_samples_split=15, min_samples_leaf=10, max_features=10, max_depth=50, bootstrap=False, score=-752.8429904148048, total=   4.3s\n",
      "[CV] n_estimators=300, min_samples_split=5, min_samples_leaf=10, max_features=20, max_depth=None, bootstrap=False \n",
      "[CV]  n_estimators=300, min_samples_split=5, min_samples_leaf=10, max_features=20, max_depth=None, bootstrap=False, score=-777.4030343435907, total=   7.6s\n",
      "[CV] n_estimators=300, min_samples_split=5, min_samples_leaf=10, max_features=20, max_depth=None, bootstrap=False \n",
      "[CV]  n_estimators=300, min_samples_split=5, min_samples_leaf=10, max_features=20, max_depth=None, bootstrap=False, score=-793.8740753798111, total=   7.5s\n",
      "[CV] n_estimators=300, min_samples_split=5, min_samples_leaf=10, max_features=20, max_depth=None, bootstrap=False \n",
      "[CV]  n_estimators=300, min_samples_split=5, min_samples_leaf=10, max_features=20, max_depth=None, bootstrap=False, score=-791.0011644493618, total=   7.6s\n",
      "[CV] n_estimators=300, min_samples_split=5, min_samples_leaf=10, max_features=20, max_depth=None, bootstrap=False \n",
      "[CV]  n_estimators=300, min_samples_split=5, min_samples_leaf=10, max_features=20, max_depth=None, bootstrap=False, score=-779.5912204555112, total=   7.5s\n",
      "[CV] n_estimators=300, min_samples_split=5, min_samples_leaf=10, max_features=20, max_depth=None, bootstrap=False \n",
      "[CV]  n_estimators=300, min_samples_split=5, min_samples_leaf=10, max_features=20, max_depth=None, bootstrap=False, score=-707.7524517495604, total=   7.6s\n",
      "[CV] n_estimators=300, min_samples_split=5, min_samples_leaf=10, max_features=20, max_depth=None, bootstrap=False \n",
      "[CV]  n_estimators=300, min_samples_split=5, min_samples_leaf=10, max_features=20, max_depth=None, bootstrap=False, score=-736.2568960289573, total=   7.4s\n",
      "[CV] n_estimators=300, min_samples_split=5, min_samples_leaf=10, max_features=20, max_depth=None, bootstrap=False \n",
      "[CV]  n_estimators=300, min_samples_split=5, min_samples_leaf=10, max_features=20, max_depth=None, bootstrap=False, score=-752.6958769506341, total=   7.6s\n",
      "[CV] n_estimators=300, min_samples_split=5, min_samples_leaf=10, max_features=20, max_depth=None, bootstrap=False \n",
      "[CV]  n_estimators=300, min_samples_split=5, min_samples_leaf=10, max_features=20, max_depth=None, bootstrap=False, score=-779.8394010890465, total=   7.9s\n",
      "[CV] n_estimators=300, min_samples_split=5, min_samples_leaf=10, max_features=20, max_depth=None, bootstrap=False \n",
      "[CV]  n_estimators=300, min_samples_split=5, min_samples_leaf=10, max_features=20, max_depth=None, bootstrap=False, score=-746.1053181421876, total=   7.8s\n",
      "[CV] n_estimators=300, min_samples_split=5, min_samples_leaf=10, max_features=20, max_depth=None, bootstrap=False \n",
      "[CV]  n_estimators=300, min_samples_split=5, min_samples_leaf=10, max_features=20, max_depth=None, bootstrap=False, score=-757.8230390059783, total=   7.5s\n",
      "[CV] n_estimators=200, min_samples_split=20, min_samples_leaf=5, max_features=20, max_depth=20, bootstrap=False \n",
      "[CV]  n_estimators=200, min_samples_split=20, min_samples_leaf=5, max_features=20, max_depth=20, bootstrap=False, score=-784.1499411003598, total=   5.3s\n",
      "[CV] n_estimators=200, min_samples_split=20, min_samples_leaf=5, max_features=20, max_depth=20, bootstrap=False \n",
      "[CV]  n_estimators=200, min_samples_split=20, min_samples_leaf=5, max_features=20, max_depth=20, bootstrap=False, score=-802.433352948443, total=   5.6s\n",
      "[CV] n_estimators=200, min_samples_split=20, min_samples_leaf=5, max_features=20, max_depth=20, bootstrap=False \n",
      "[CV]  n_estimators=200, min_samples_split=20, min_samples_leaf=5, max_features=20, max_depth=20, bootstrap=False, score=-799.1525749988978, total=   5.3s\n",
      "[CV] n_estimators=200, min_samples_split=20, min_samples_leaf=5, max_features=20, max_depth=20, bootstrap=False \n",
      "[CV]  n_estimators=200, min_samples_split=20, min_samples_leaf=5, max_features=20, max_depth=20, bootstrap=False, score=-793.5701840855273, total=   5.4s\n",
      "[CV] n_estimators=200, min_samples_split=20, min_samples_leaf=5, max_features=20, max_depth=20, bootstrap=False \n",
      "[CV]  n_estimators=200, min_samples_split=20, min_samples_leaf=5, max_features=20, max_depth=20, bootstrap=False, score=-712.7192129292285, total=   5.7s\n",
      "[CV] n_estimators=200, min_samples_split=20, min_samples_leaf=5, max_features=20, max_depth=20, bootstrap=False \n",
      "[CV]  n_estimators=200, min_samples_split=20, min_samples_leaf=5, max_features=20, max_depth=20, bootstrap=False, score=-741.2699380138417, total=   5.3s\n",
      "[CV] n_estimators=200, min_samples_split=20, min_samples_leaf=5, max_features=20, max_depth=20, bootstrap=False \n",
      "[CV]  n_estimators=200, min_samples_split=20, min_samples_leaf=5, max_features=20, max_depth=20, bootstrap=False, score=-753.9948163799198, total=   5.6s\n",
      "[CV] n_estimators=200, min_samples_split=20, min_samples_leaf=5, max_features=20, max_depth=20, bootstrap=False \n",
      "[CV]  n_estimators=200, min_samples_split=20, min_samples_leaf=5, max_features=20, max_depth=20, bootstrap=False, score=-781.8690289612475, total=   5.3s\n",
      "[CV] n_estimators=200, min_samples_split=20, min_samples_leaf=5, max_features=20, max_depth=20, bootstrap=False \n",
      "[CV]  n_estimators=200, min_samples_split=20, min_samples_leaf=5, max_features=20, max_depth=20, bootstrap=False, score=-747.4484177792643, total=   5.7s\n",
      "[CV] n_estimators=200, min_samples_split=20, min_samples_leaf=5, max_features=20, max_depth=20, bootstrap=False \n",
      "[CV]  n_estimators=200, min_samples_split=20, min_samples_leaf=5, max_features=20, max_depth=20, bootstrap=False, score=-766.5256192899674, total=   5.6s\n"
     ]
    },
    {
     "name": "stderr",
     "output_type": "stream",
     "text": [
      "[Parallel(n_jobs=1)]: Done 100 out of 100 | elapsed: 10.7min finished\n"
     ]
    },
    {
     "data": {
      "text/plain": [
       "RandomizedSearchCV(cv=10, error_score='raise-deprecating',\n",
       "          estimator=RandomForestRegressor(bootstrap=True, criterion='mse', max_depth=None,\n",
       "           max_features='auto', max_leaf_nodes=None,\n",
       "           min_impurity_decrease=0.0, min_impurity_split=None,\n",
       "           min_samples_leaf=1, min_samples_split=2,\n",
       "           min_weight_fraction_leaf=0.0, n_estimators='warn', n_jobs=None,\n",
       "           oob_score=False, random_state=None, verbose=0, warm_start=False),\n",
       "          fit_params=None, iid='warn', n_iter=10, n_jobs=None,\n",
       "          param_distributions={'n_estimators': [100, 200, 300, 500, 700, 1000], 'max_features': [5, 10, 20, 25, 30, 35], 'bootstrap': [True, False], 'max_depth': [None, 5, 10, 15, 20, 30, 50, 70], 'min_samples_leaf': [1, 2, 5, 10, 15, 20], 'min_samples_split': [2, 5, 10, 15, 20]},\n",
       "          pre_dispatch='2*n_jobs', random_state=None, refit=True,\n",
       "          return_train_score='warn', scoring='neg_mean_absolute_error',\n",
       "          verbose=10)"
      ]
     },
     "execution_count": 37,
     "metadata": {},
     "output_type": "execute_result"
    }
   ],
   "source": [
    "ranfor.fit(X_train,y_train)"
   ]
  },
  {
   "cell_type": "code",
   "execution_count": 38,
   "metadata": {},
   "outputs": [],
   "source": [
    "random_forest = ranfor.best_estimator_"
   ]
  },
  {
   "cell_type": "code",
   "execution_count": 39,
   "metadata": {},
   "outputs": [
    {
     "data": {
      "text/plain": [
       "RandomForestRegressor(bootstrap=False, criterion='mse', max_depth=50,\n",
       "           max_features=10, max_leaf_nodes=None, min_impurity_decrease=0.0,\n",
       "           min_impurity_split=None, min_samples_leaf=10,\n",
       "           min_samples_split=15, min_weight_fraction_leaf=0.0,\n",
       "           n_estimators=300, n_jobs=None, oob_score=False,\n",
       "           random_state=None, verbose=0, warm_start=False)"
      ]
     },
     "execution_count": 39,
     "metadata": {},
     "output_type": "execute_result"
    }
   ],
   "source": [
    "random_forest.fit(X_train,y_train)"
   ]
  },
  {
   "cell_type": "code",
   "execution_count": 40,
   "metadata": {},
   "outputs": [],
   "source": [
    "ranfor_pred=random_forest.predict(X_test)"
   ]
  },
  {
   "cell_type": "code",
   "execution_count": 41,
   "metadata": {},
   "outputs": [
    {
     "data": {
      "text/plain": [
       "777.4032375871675"
      ]
     },
     "execution_count": 41,
     "metadata": {},
     "output_type": "execute_result"
    }
   ],
   "source": [
    "mean_absolute_error(y_test,ranfor_pred)"
   ]
  },
  {
   "cell_type": "markdown",
   "metadata": {},
   "source": [
    "# GBM"
   ]
  },
  {
   "cell_type": "code",
   "execution_count": 42,
   "metadata": {},
   "outputs": [],
   "source": [
    "from sklearn.ensemble import GradientBoostingRegressor"
   ]
  },
  {
   "cell_type": "code",
   "execution_count": 43,
   "metadata": {},
   "outputs": [],
   "source": [
    "gbm_params = {'n_estimators' : [80,90,100,110,120],\n",
    "'learning_rate' : [0.2,0.3,0.4,0.5,0.6],\n",
    "'max_depth' : [2,3],\n",
    "'subsample' : [0.5,0.8,1],\n",
    "'max_features' : [18,19,20,21,22] }"
   ]
  },
  {
   "cell_type": "code",
   "execution_count": 44,
   "metadata": {},
   "outputs": [],
   "source": [
    "gbm = GradientBoostingRegressor()"
   ]
  },
  {
   "cell_type": "code",
   "execution_count": 45,
   "metadata": {},
   "outputs": [],
   "source": [
    "gbm_search = RandomizedSearchCV(gbm,scoring='neg_mean_absolute_error',param_distributions=gbm_params,\n",
    "                                cv=10, n_iter=10, n_jobs=-1)"
   ]
  },
  {
   "cell_type": "code",
   "execution_count": 46,
   "metadata": {},
   "outputs": [
    {
     "data": {
      "text/plain": [
       "RandomizedSearchCV(cv=10, error_score='raise-deprecating',\n",
       "          estimator=GradientBoostingRegressor(alpha=0.9, criterion='friedman_mse', init=None,\n",
       "             learning_rate=0.1, loss='ls', max_depth=3, max_features=None,\n",
       "             max_leaf_nodes=None, min_impurity_decrease=0.0,\n",
       "             min_impurity_split=None, min_samples_leaf=1,\n",
       "             min_sampl...=None, subsample=1.0, tol=0.0001,\n",
       "             validation_fraction=0.1, verbose=0, warm_start=False),\n",
       "          fit_params=None, iid='warn', n_iter=10, n_jobs=-1,\n",
       "          param_distributions={'n_estimators': [80, 90, 100, 110, 120], 'learning_rate': [0.2, 0.3, 0.4, 0.5, 0.6], 'max_depth': [2, 3], 'subsample': [0.5, 0.8, 1], 'max_features': [18, 19, 20, 21, 22]},\n",
       "          pre_dispatch='2*n_jobs', random_state=None, refit=True,\n",
       "          return_train_score='warn', scoring='neg_mean_absolute_error',\n",
       "          verbose=0)"
      ]
     },
     "execution_count": 46,
     "metadata": {},
     "output_type": "execute_result"
    }
   ],
   "source": [
    "gbm_search.fit(X_train,y_train)"
   ]
  },
  {
   "cell_type": "code",
   "execution_count": 47,
   "metadata": {},
   "outputs": [
    {
     "data": {
      "text/plain": [
       "GradientBoostingRegressor(alpha=0.9, criterion='friedman_mse', init=None,\n",
       "             learning_rate=0.2, loss='ls', max_depth=3, max_features=22,\n",
       "             max_leaf_nodes=None, min_impurity_decrease=0.0,\n",
       "             min_impurity_split=None, min_samples_leaf=1,\n",
       "             min_samples_split=2, min_weight_fraction_leaf=0.0,\n",
       "             n_estimators=110, n_iter_no_change=None, presort='auto',\n",
       "             random_state=None, subsample=1, tol=0.0001,\n",
       "             validation_fraction=0.1, verbose=0, warm_start=False)"
      ]
     },
     "execution_count": 47,
     "metadata": {},
     "output_type": "execute_result"
    }
   ],
   "source": [
    "gbm_search.best_estimator_.fit(X_train,y_train)"
   ]
  },
  {
   "cell_type": "code",
   "execution_count": 48,
   "metadata": {},
   "outputs": [],
   "source": [
    "gbm_pred=gbm_search.predict(X_test)"
   ]
  },
  {
   "cell_type": "code",
   "execution_count": 49,
   "metadata": {},
   "outputs": [
    {
     "data": {
      "text/plain": [
       "781.3290849725605"
      ]
     },
     "execution_count": 49,
     "metadata": {},
     "output_type": "execute_result"
    }
   ],
   "source": [
    "mean_absolute_error(y_test,gbm_pred)"
   ]
  },
  {
   "cell_type": "markdown",
   "metadata": {},
   "source": [
    "# Stacking"
   ]
  },
  {
   "cell_type": "code",
   "execution_count": 50,
   "metadata": {},
   "outputs": [],
   "source": [
    "from sklearn.neighbors import KNeighborsRegressor\n",
    "from sklearn.model_selection import KFold"
   ]
  },
  {
   "cell_type": "code",
   "execution_count": 51,
   "metadata": {},
   "outputs": [],
   "source": [
    "clf1=Lasso(alpha=8.333333333333334, copy_X=True, fit_intercept=True, max_iter=1000,\n",
    "   normalize=False, positive=False, precompute=False, random_state=None,\n",
    "   selection='cyclic', tol=0.0001, warm_start=False)\n",
    "clf2=RandomForestRegressor(bootstrap=True, criterion='mse', max_depth=70,\n",
    "           max_features=25, max_leaf_nodes=None, min_impurity_decrease=0.0,\n",
    "           min_impurity_split=None, min_samples_leaf=20,\n",
    "           min_samples_split=10, min_weight_fraction_leaf=0.0,\n",
    "           n_estimators=500, n_jobs=None, oob_score=False,\n",
    "           random_state=None, verbose=0, warm_start=False)\n",
    "clf3=GradientBoostingRegressor(alpha=0.9, criterion='friedman_mse', init=None,\n",
    "             learning_rate=0.5, loss='ls', max_depth=2, max_features=18,\n",
    "             max_leaf_nodes=None, min_impurity_decrease=0.0,\n",
    "             min_impurity_split=None, min_samples_leaf=1,\n",
    "             min_samples_split=2, min_weight_fraction_leaf=0.0,\n",
    "             n_estimators=80, n_iter_no_change=None, presort='auto',\n",
    "             random_state=None, subsample=0.8, tol=0.0001,\n",
    "             validation_fraction=0.1, verbose=0, warm_start=False)\n",
    "\n",
    "Algos=[clf1,clf2,clf3]"
   ]
  },
  {
   "cell_type": "code",
   "execution_count": 52,
   "metadata": {},
   "outputs": [],
   "source": [
    "rows=X_train.shape[0]"
   ]
  },
  {
   "cell_type": "code",
   "execution_count": 53,
   "metadata": {},
   "outputs": [],
   "source": [
    "layer1=pd.DataFrame({'clf1':np.zeros(rows),'clf2':np.zeros(rows),'clf3':np.zeros(rows)})"
   ]
  },
  {
   "cell_type": "code",
   "execution_count": 54,
   "metadata": {},
   "outputs": [],
   "source": [
    "kf=KFold(n_splits=10)"
   ]
  },
  {
   "cell_type": "code",
   "execution_count": 55,
   "metadata": {},
   "outputs": [],
   "source": [
    "X_train.reset_index(drop=True,inplace=True )\n",
    "y_train.reset_index(drop=True,inplace=True )"
   ]
  },
  {
   "cell_type": "code",
   "execution_count": 56,
   "metadata": {},
   "outputs": [
    {
     "name": "stdout",
     "output_type": "stream",
     "text": [
      "fold number :  1\n",
      "Algo number : 1\n",
      "Algo number : 2\n",
      "Algo number : 3\n",
      "fold number :  2\n",
      "Algo number : 1\n",
      "Algo number : 2\n",
      "Algo number : 3\n",
      "fold number :  3\n",
      "Algo number : 1\n",
      "Algo number : 2\n",
      "Algo number : 3\n",
      "fold number :  4\n",
      "Algo number : 1\n",
      "Algo number : 2\n",
      "Algo number : 3\n",
      "fold number :  5\n",
      "Algo number : 1\n",
      "Algo number : 2\n",
      "Algo number : 3\n",
      "fold number :  6\n",
      "Algo number : 1\n",
      "Algo number : 2\n",
      "Algo number : 3\n",
      "fold number :  7\n",
      "Algo number : 1\n",
      "Algo number : 2\n",
      "Algo number : 3\n",
      "fold number :  8\n",
      "Algo number : 1\n",
      "Algo number : 2\n",
      "Algo number : 3\n",
      "fold number :  9\n",
      "Algo number : 1\n",
      "Algo number : 2\n",
      "Algo number : 3\n",
      "fold number :  10\n",
      "Algo number : 1\n",
      "Algo number : 2\n",
      "Algo number : 3\n"
     ]
    }
   ],
   "source": [
    "fold=1\n",
    "for train,left_out_chunk in kf.split(X_train):\n",
    "    print('fold number : ', fold)\n",
    "    \n",
    "    for i,clf in enumerate(Algos):\n",
    "        print('Algo number :',i+1)\n",
    "        \n",
    "        X_train_train=X_train.loc[train]\n",
    "        y_train_train=y_train[train]\n",
    "        X_train_left_out_chunk=X_train.loc[left_out_chunk]\n",
    "        \n",
    "        clf.fit(X_train_train,y_train_train)\n",
    "        p=clf.predict(X_train_left_out_chunk)#[:,1]\n",
    "        \n",
    "        layer1.iloc[left_out_chunk,i]=p\n",
    "        \n",
    "    fold+=1  \n",
    "    "
   ]
  },
  {
   "cell_type": "code",
   "execution_count": 57,
   "metadata": {},
   "outputs": [],
   "source": [
    "rows=X_test.shape[0]\n",
    "layer2_test=pd.DataFrame({'clf1':np.zeros(rows),'clf2':np.zeros(rows),'clf3':np.zeros(rows)})"
   ]
  },
  {
   "cell_type": "code",
   "execution_count": 58,
   "metadata": {},
   "outputs": [
    {
     "name": "stdout",
     "output_type": "stream",
     "text": [
      "Algo number 1\n",
      "Algo number 2\n",
      "Algo number 3\n"
     ]
    }
   ],
   "source": [
    "for i,clf in enumerate(Algos):\n",
    "    print( 'Algo number',i+1)\n",
    "    clf.fit(X_train,y_train)\n",
    "    p=clf.predict(X_test)\n",
    "    \n",
    "    layer2_test.iloc[:,i]=p\n"
   ]
  },
  {
   "cell_type": "code",
   "execution_count": 59,
   "metadata": {},
   "outputs": [],
   "source": [
    "from sklearn.linear_model import LinearRegression"
   ]
  },
  {
   "cell_type": "code",
   "execution_count": 60,
   "metadata": {},
   "outputs": [],
   "source": [
    "# second layer linear model \n",
    "lmr=LinearRegression()"
   ]
  },
  {
   "cell_type": "code",
   "execution_count": 61,
   "metadata": {},
   "outputs": [
    {
     "data": {
      "text/plain": [
       "(1364, 37)"
      ]
     },
     "execution_count": 61,
     "metadata": {},
     "output_type": "execute_result"
    }
   ],
   "source": [
    "X_test.shape"
   ]
  },
  {
   "cell_type": "code",
   "execution_count": 62,
   "metadata": {},
   "outputs": [
    {
     "data": {
      "text/plain": [
       "LinearRegression(copy_X=True, fit_intercept=True, n_jobs=None,\n",
       "         normalize=False)"
      ]
     },
     "execution_count": 62,
     "metadata": {},
     "output_type": "execute_result"
    }
   ],
   "source": [
    "lmr.fit(layer1,y_train)"
   ]
  },
  {
   "cell_type": "code",
   "execution_count": 63,
   "metadata": {},
   "outputs": [],
   "source": [
    "from sklearn.metrics import mean_absolute_error"
   ]
  },
  {
   "cell_type": "code",
   "execution_count": 64,
   "metadata": {},
   "outputs": [],
   "source": [
    "pred = lmr.predict(layer2_test)"
   ]
  },
  {
   "cell_type": "code",
   "execution_count": 65,
   "metadata": {},
   "outputs": [
    {
     "data": {
      "text/plain": [
       "764.2121640962251"
      ]
     },
     "execution_count": 65,
     "metadata": {},
     "output_type": "execute_result"
    }
   ],
   "source": [
    "mean_absolute_error(y_test,pred)"
   ]
  },
  {
   "cell_type": "markdown",
   "metadata": {},
   "source": [
    "#### We can conclude that all the models together find different patterns and helps in reducing the error by around 66."
   ]
  }
 ],
 "metadata": {
  "kernelspec": {
   "display_name": "Python 3",
   "language": "python",
   "name": "python3"
  },
  "language_info": {
   "codemirror_mode": {
    "name": "ipython",
    "version": 3
   },
   "file_extension": ".py",
   "mimetype": "text/x-python",
   "name": "python",
   "nbconvert_exporter": "python",
   "pygments_lexer": "ipython3",
   "version": "3.6.5"
  }
 },
 "nbformat": 4,
 "nbformat_minor": 2
}
